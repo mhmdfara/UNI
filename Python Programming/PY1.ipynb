{
 "cells": [
  {
   "cell_type": "code",
   "execution_count": 1,
   "id": "b14ac3e5-92aa-48ad-a98d-8483d3bf8d46",
   "metadata": {},
   "outputs": [
    {
     "name": "stdout",
     "output_type": "stream",
     "text": [
      "[2.23606797749979, 5.0, 2.23606797749979]\n"
     ]
    }
   ],
   "source": [
    "import math\n",
    "\n",
    "def distance(coordinates):\n",
    "    distances = []\n",
    "    for x, y in coordinates:\n",
    "        distance = math.sqrt(x**2 + y**2)\n",
    "        distances.append(distance)\n",
    "    return distances\n",
    "\n",
    "coordinates = [(1, 2), (3, 4), (-1, -2)]\n",
    "distances = distance(coordinates)\n",
    "print(distances)\n"
   ]
  },
  {
   "cell_type": "code",
   "execution_count": 2,
   "id": "206c378f-1811-427f-8654-1b3ee18a263b",
   "metadata": {},
   "outputs": [
    {
     "name": "stdout",
     "output_type": "stream",
     "text": [
      "[('Marja', 20, 'B'), ('Juho', 21, 'C'), ('Arto', 22, 'A')]\n"
     ]
    }
   ],
   "source": [
    "students = [(\"Marja\", 20, \"B\"), (\"Arto\", 22, \"A\"), (\"Juho\", 21, \"C\")]\n",
    "sorted_students_by_name = sorted(students, key=lambda x: x[0], reverse=True)\n",
    "print(sorted_students_by_name)"
   ]
  },
  {
   "cell_type": "code",
   "execution_count": 3,
   "id": "10c38b53-4374-400d-9711-0fd23ed92a3e",
   "metadata": {},
   "outputs": [
    {
     "name": "stdout",
     "output_type": "stream",
     "text": [
      "2\n"
     ]
    }
   ],
   "source": [
    "#Unique Emails Exercise:\n",
    "\n",
    "def count_unique_emails(emails):\n",
    "    email_counts = {}\n",
    "    for email in emails:\n",
    "        email_counts[email] = email_counts.get(email, 0) + 1\n",
    "    return len(email_counts)\n",
    "\n",
    "emails = [\"marja@email.com\", \"arto@email.com\", \"marja@email.com\"]\n",
    "unique_count = count_unique_emails(emails)\n",
    "print(unique_count)\n"
   ]
  },
  {
   "cell_type": "code",
   "execution_count": 4,
   "id": "50b80c82-3ac8-4e93-b671-84b91981a7ba",
   "metadata": {},
   "outputs": [
    {
     "name": "stdout",
     "output_type": "stream",
     "text": [
      "{'butter'}\n"
     ]
    }
   ],
   "source": [
    "#Common Ingredients Exercise:\n",
    "\n",
    "def find_shared_elements(set1, set2):\n",
    "    shared_elements = set1.intersection(set2)\n",
    "    return shared_elements\n",
    "\n",
    "ingredients1 = {\"egg\", \"milk\", \"butter\"}\n",
    "ingredients2 = {\"butter\", \"flour\", \"sugar\"}\n",
    "shared_elements = find_shared_elements(ingredients1, ingredients2)\n",
    "print(shared_elements)\n"
   ]
  },
  {
   "cell_type": "code",
   "execution_count": 6,
   "id": "875ef1ab-3e5c-49c4-866d-9e286192bbae",
   "metadata": {},
   "outputs": [
    {
     "name": "stdout",
     "output_type": "stream",
     "text": [
      "{'Frank', 'Grace'}\n"
     ]
    }
   ],
   "source": [
    "#Friend Recommendation Exercise:\n",
    "\n",
    "def recommend_friends(marja_friends, arto_friends):\n",
    "    recommended_friends = arto_friends - marja_friends\n",
    "    return recommended_friends\n",
    "marja_friends = {\"Juho\", \"Paivi\", \"Eve\"}\n",
    "arto_friends = {\"Paivi\", \"Frank\", \"Grace\"}\n",
    "recommended_friends = recommend_friends(marja_friends, arto_friends)\n",
    "print(recommended_friends)\n"
   ]
  },
  {
   "cell_type": "code",
   "execution_count": 7,
   "id": "38cbb2cc-3044-4ccc-82a4-2b71abd2a068",
   "metadata": {},
   "outputs": [
    {
     "name": "stdout",
     "output_type": "stream",
     "text": [
      "Price: 0.5\n"
     ]
    }
   ],
   "source": [
    "#Product Price Lookup Exercise:\n",
    "\n",
    "def lookup_product_info(product_catalog, product):\n",
    "    product_info = product_catalog.get(product)\n",
    "    if product_info is not None:\n",
    "        return f\"Price: {product_info}\"\n",
    "    else:\n",
    "        return \"Product not found or price not available\"\n",
    "\n",
    "\n",
    "product_catalog = {\"apple\": 0.5, \"banana\": 0.25}\n",
    "query_product = \"apple\"\n",
    "info = lookup_product_info(product_catalog, query_product)\n",
    "print(info)\n"
   ]
  },
  {
   "cell_type": "code",
   "execution_count": 8,
   "id": "3544d258-ed39-482b-af3e-6d009cda7bfd",
   "metadata": {},
   "outputs": [
    {
     "name": "stdout",
     "output_type": "stream",
     "text": [
      "['Arto']\n"
     ]
    }
   ],
   "source": [
    "#Voting System Exercise:\n",
    "\n",
    "def vote(candidate_votes, new_vote):\n",
    "    candidate_votes[new_vote] = candidate_votes.get(new_vote, 0) + 1\n",
    "    return candidate_votes\n",
    "\n",
    "def find_winners(candidate_votes):\n",
    "    max_votes = max(candidate_votes.values())\n",
    "    winners = [candidate for candidate, votes in candidate_votes.items() if votes == max_votes]\n",
    "    return winners\n",
    "\n",
    "\n",
    "votes = {\"Marja\": 5, \"Arto\": 7}\n",
    "new_vote = \"Marja\"\n",
    "votes = vote(votes, new_vote)\n",
    "winners = find_winners(votes)\n",
    "print(winners)\n"
   ]
  },
  {
   "cell_type": "code",
   "execution_count": 9,
   "id": "c40528e0-743a-4254-acdd-22f11945f26a",
   "metadata": {},
   "outputs": [
    {
     "name": "stdout",
     "output_type": "stream",
     "text": [
      "{'apple': 15, 'banana': 3}\n"
     ]
    }
   ],
   "source": [
    "class Inventory:\n",
    "    def __init__(self):\n",
    "        self.items = {}\n",
    "\n",
    "    def add_item(self, name, quantity):\n",
    "        self.items[name] = self.items.get(name, 0) + quantity\n",
    "\n",
    "    def remove_item(self, name, quantity):\n",
    "        if name in self.items:\n",
    "            self.items[name] = max(0, self.items[name] - quantity)\n",
    "\n",
    "\n",
    "inventory = Inventory()\n",
    "inventory.add_item(\"apple\", 10)\n",
    "inventory.add_item(\"banana\", 5)\n",
    "inventory.add_item(\"apple\", 5)\n",
    "inventory.remove_item(\"banana\", 2)\n",
    "\n",
    "print(inventory.items)\n"
   ]
  },
  {
   "cell_type": "code",
   "execution_count": 11,
   "id": "ddd755a6-10b9-4af1-af74-86b9f229ce38",
   "metadata": {},
   "outputs": [
    {
     "name": "stdout",
     "output_type": "stream",
     "text": [
      "Title: Book1, Author: Juho\n"
     ]
    }
   ],
   "source": [
    "#Book Catalog Exercise:\n",
    "\n",
    "class BookCatalog:\n",
    "    def __init__(self):\n",
    "        self.catalog = {}\n",
    "\n",
    "    def add_book(self, isbn, title, author):\n",
    "        self.catalog[isbn] = {\"title\": title, \"author\": author}\n",
    "\n",
    "    def find_books_by_author(self, author):\n",
    "        books = [isbn for isbn, details in self.catalog.items() if details[\"author\"] == author]\n",
    "        return books\n",
    "\n",
    "    def display_book_details(self, isbn):\n",
    "        details = self.catalog.get(isbn)\n",
    "        if details:\n",
    "            print(f\"Title: {details['title']}, Author: {details['author']}\")\n",
    "        else:\n",
    "            print(\"Book not found\")\n",
    "\n",
    "\n",
    "book_catalog = BookCatalog()\n",
    "book_catalog.add_book(9781234567890, \"Book1\", \"Juho\")\n",
    "book_catalog.add_book(9782345678901, \"Book2\", \"Arto\")\n",
    "books_by_author = book_catalog.find_books_by_author(\"Juho\")\n",
    "book_catalog.display_book_details(9781234567890)\n"
   ]
  },
  {
   "cell_type": "code",
   "execution_count": 12,
   "id": "1a0481f8-38cf-4157-89b5-215d3eeb0dd6",
   "metadata": {},
   "outputs": [
    {
     "name": "stdout",
     "output_type": "stream",
     "text": [
      "Hottest Day: Tue\n"
     ]
    }
   ],
   "source": [
    "#Weather Data Exercise:\n",
    "\n",
    "def find_hottest_day(temperature_data):\n",
    "    hottest_day = max(temperature_data, key=temperature_data.get)\n",
    "    return hottest_day\n",
    "\n",
    "\n",
    "temperature_data = {\"Mon\": 20, \"Tue\": 22, \"Wed\": 19, \"Thu\": 21, \"Fri\": 20}\n",
    "hottest_day = find_hottest_day(temperature_data)\n",
    "print(\"Hottest Day:\", hottest_day)\n"
   ]
  },
  {
   "cell_type": "code",
   "execution_count": 13,
   "id": "a8bc4a0b-ffc8-47bb-807f-8d339cc4c63b",
   "metadata": {},
   "outputs": [
    {
     "name": "stdout",
     "output_type": "stream",
     "text": [
      "Airline: Finnair\n",
      "Source: Helsinki\n",
      "Destination: Tokyo\n",
      "Duration: 9.5\n"
     ]
    }
   ],
   "source": [
    "#Flight Information Exercise:\n",
    "\n",
    "airline, source, destination, duration = (\"Finnair\", \"Helsinki\", \"Tokyo\", 9.5)\n",
    "print(\"Airline:\", airline)\n",
    "print(\"Source:\", source)\n",
    "print(\"Destination:\", destination)\n",
    "print(\"Duration:\", duration)\n"
   ]
  },
  {
   "cell_type": "code",
   "execution_count": 14,
   "id": "c3d4c0f9-6a9d-487a-96ff-fa57873cdf8f",
   "metadata": {},
   "outputs": [
    {
     "name": "stdout",
     "output_type": "stream",
     "text": [
      "True\n"
     ]
    }
   ],
   "source": [
    "#Color Representation Exercise:\n",
    "\n",
    "def is_grayscale(color):\n",
    "    return len(set(color)) == 1\n",
    "\n",
    "color = (200, 200, 200)\n",
    "grayscale = is_grayscale(color)\n",
    "print(grayscale)\n"
   ]
  },
  {
   "cell_type": "code",
   "execution_count": 15,
   "id": "4e7f4f78-6dfa-466e-8ae8-f347454fede2",
   "metadata": {},
   "outputs": [
    {
     "name": "stdout",
     "output_type": "stream",
     "text": [
      "{'song4', 'song3', 'song1', 'song5', 'song2'}\n"
     ]
    }
   ],
   "source": [
    "#Unique Songs Exercise:\n",
    "\n",
    "marja_playlist = {\"song1\", \"song2\", \"song3\"}\n",
    "arto_playlist = {\"song3\", \"song4\", \"song5\"}\n",
    "combined_playlist = marja_playlist.union(arto_playlist)\n",
    "print(combined_playlist)\n",
    "\n"
   ]
  },
  {
   "cell_type": "code",
   "execution_count": 16,
   "id": "149f8e3d-baa7-4e19-ba85-893820c62cb7",
   "metadata": {},
   "outputs": [
    {
     "name": "stdout",
     "output_type": "stream",
     "text": [
      "Common Items: {'bread'}\n",
      "Juho's Unique Items: {'butter', 'milk'}\n",
      "Paivi's Unique Items: {'egg', 'juice'}\n"
     ]
    }
   ],
   "source": [
    "#Grocery List Exercise:\n",
    "\n",
    "juho_list = {\"milk\", \"bread\", \"butter\"}\n",
    "paivi_list = {\"bread\", \"egg\", \"juice\"}\n",
    "\n",
    "common_items = juho_list.intersection(paivi_list)\n",
    "unique_juho = juho_list - paivi_list\n",
    "unique_paivi = paivi_list - juho_list\n",
    "\n",
    "print(\"Common Items:\", common_items)\n",
    "print(\"Juho's Unique Items:\", unique_juho)\n",
    "print(\"Paivi's Unique Items:\", unique_paivi)\n"
   ]
  },
  {
   "cell_type": "code",
   "execution_count": 17,
   "id": "626204f0-6d36-4694-930e-b56082a27427",
   "metadata": {},
   "outputs": [
    {
     "name": "stdout",
     "output_type": "stream",
     "text": [
      "{'movie4', 'movie3'}\n"
     ]
    }
   ],
   "source": [
    "marja_watched = {\"movie1\", \"movie2\"}\n",
    "streaming_movies = {\"movie2\", \"movie3\", \"movie4\"}\n",
    "\n",
    "unwatched_movies = streaming_movies - marja_watched\n",
    "print(unwatched_movies)\n"
   ]
  },
  {
   "cell_type": "code",
   "execution_count": 18,
   "id": "86648120-b10d-4865-aead-838f6396a1fb",
   "metadata": {},
   "outputs": [
    {
     "name": "stdout",
     "output_type": "stream",
     "text": [
      "Highest Grader: Arto\n"
     ]
    }
   ],
   "source": [
    "grades = {\"Marja\": 85, \"Arto\": 90, \"Juho\": 88, \"Paivi\": 78}\n",
    "highest_grader = max(grades, key=grades.get)\n",
    "print(\"Highest Grader:\", highest_grader)\n"
   ]
  },
  {
   "cell_type": "code",
   "execution_count": 20,
   "id": "9ba3b389-9d0a-4b9f-a448-38149658a074",
   "metadata": {},
   "outputs": [
    {
     "name": "stdout",
     "output_type": "stream",
     "text": [
      "Most Populated City: Helsinki\n"
     ]
    }
   ],
   "source": [
    "class CityPopulation:\n",
    "    def __init__(self):\n",
    "        self.city_population = {}\n",
    "\n",
    "    def add_city(self, city, population):\n",
    "        self.city_population[city] = population\n",
    "\n",
    "    def update_population(self, city, new_population):\n",
    "        if city in self.city_population:\n",
    "            self.city_population[city] = new_population\n",
    "\n",
    "    def most_populated_city(self):\n",
    "        return max(self.city_population, key=self.city_population.get)\n",
    "\n",
    "city_data = CityPopulation()\n",
    "city_data.add_city(\"Helsinki\", 650000)\n",
    "city_data.add_city(\"Tampere\", 235000)\n",
    "city_data.add_city(\"Oulu\", 200000)\n",
    "\n",
    "city_data.add_city(\"Espoo\", 280000)\n",
    "city_data.update_population(\"Helsinki\", 700000)\n",
    "\n",
    "print(\"Most Populated City:\", city_data.most_populated_city())\n"
   ]
  },
  {
   "cell_type": "code",
   "execution_count": 21,
   "id": "e8027058-7af6-4c3a-84a2-6561bfaf02f2",
   "metadata": {},
   "outputs": [
    {
     "name": "stdout",
     "output_type": "stream",
     "text": [
      "Scaled Recipe: {'flour': 800, 'sugar': 200, 'milk': 400}\n"
     ]
    }
   ],
   "source": [
    "class Recipe:\n",
    "    def __init__(self, ingredients):\n",
    "        self.recipe = ingredients\n",
    "\n",
    "    def scale_recipe(self, scale_factor):\n",
    "        scaled_recipe = {ingredient: quantity * scale_factor for ingredient, quantity in self.recipe.items()}\n",
    "        return scaled_recipe\n",
    "\n",
    "recipe = Recipe({\"flour\": 200, \"sugar\": 50, \"milk\": 100})\n",
    "scaled_recipe = recipe.scale_recipe(4)\n",
    "print(\"Scaled Recipe:\", scaled_recipe)\n"
   ]
  },
  {
   "cell_type": "code",
   "execution_count": 22,
   "id": "a14ec2e1-0830-4984-829b-d7b5b59e1ca3",
   "metadata": {},
   "outputs": [
    {
     "name": "stdout",
     "output_type": "stream",
     "text": [
      "Search Result: +3589876543\n"
     ]
    }
   ],
   "source": [
    "class Phonebook:\n",
    "    def __init__(self):\n",
    "        self.contacts = {}\n",
    "\n",
    "    def add_contact(self, name, number):\n",
    "        self.contacts[name] = number\n",
    "\n",
    "    def delete_contact(self, name):\n",
    "        if name in self.contacts:\n",
    "            del self.contacts[name]\n",
    "\n",
    "    def search_contact(self, name):\n",
    "        return self.contacts.get(name, \"Contact not found\")\n",
    "\n",
    "phonebook = Phonebook()\n",
    "phonebook.add_contact(\"Marja\", \"+3581234567\")\n",
    "phonebook.add_contact(\"Arto\", \"+3587654321\")\n",
    "phonebook.add_contact(\"Juho\", \"+3589876543\")\n",
    "\n",
    "phonebook.delete_contact(\"Arto\")\n",
    "print(\"Search Result:\", phonebook.search_contact(\"Juho\"))\n"
   ]
  },
  {
   "cell_type": "code",
   "execution_count": 23,
   "id": "f17f9913-b3cb-4274-8869-a5044c75e5f4",
   "metadata": {},
   "outputs": [
    {
     "name": "stdout",
     "output_type": "stream",
     "text": [
      "Available Books: [9781234567890]\n"
     ]
    }
   ],
   "source": [
    "class LibrarySystem:\n",
    "    def __init__(self):\n",
    "        self.library_catalog = {}\n",
    "\n",
    "    def add_book(self, isbn, title, author):\n",
    "        self.library_catalog[isbn] = {\"title\": title, \"author\": author, \"status\": \"available\"}\n",
    "\n",
    "    def borrow_book(self, isbn):\n",
    "        if isbn in self.library_catalog and self.library_catalog[isbn][\"status\"] == \"available\":\n",
    "            self.library_catalog[isbn][\"status\"] = \"borrowed\"\n",
    "\n",
    "    def return_book(self, isbn):\n",
    "        if isbn in self.library_catalog and self.library_catalog[isbn][\"status\"] == \"borrowed\":\n",
    "            self.library_catalog[isbn][\"status\"] = \"available\"\n",
    "\n",
    "    def list_available_books(self):\n",
    "        available_books = [isbn for isbn, details in self.library_catalog.items() if details[\"status\"] == \"available\"]\n",
    "        return available_books\n",
    "\n",
    "library_system = LibrarySystem()\n",
    "library_system.add_book(9781234567890, \"Book1\", \"Juho\")\n",
    "library_system.borrow_book(9781234567890)\n",
    "library_system.return_book(9781234567890)\n",
    "print(\"Available Books:\", library_system.list_available_books())\n"
   ]
  },
  {
   "cell_type": "code",
   "execution_count": null,
   "id": "a0016785-0a8f-417e-bd6c-213152ba91a2",
   "metadata": {},
   "outputs": [],
   "source": []
  }
 ],
 "metadata": {
  "kernelspec": {
   "display_name": "Python 3 (ipykernel)",
   "language": "python",
   "name": "python3"
  },
  "language_info": {
   "codemirror_mode": {
    "name": "ipython",
    "version": 3
   },
   "file_extension": ".py",
   "mimetype": "text/x-python",
   "name": "python",
   "nbconvert_exporter": "python",
   "pygments_lexer": "ipython3",
   "version": "3.10.6"
  }
 },
 "nbformat": 4,
 "nbformat_minor": 5
}
