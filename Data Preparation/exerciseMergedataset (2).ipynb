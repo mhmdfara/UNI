{
 "cells": [
  {
   "cell_type": "markdown",
   "id": "6cc044b7-4836-41de-955f-5f3f68d7df11",
   "metadata": {},
   "source": [
    "Merge/join or concat the datasets. Real-world examples   \n",
    "\n",
    "1. Identify which customers have made orders   \n",
    "   **Dataset A:** Customer Information (Customer ID, Name, Email)\n",
    "      \n",
    "|Customer ID|Name|Email|   \n",
    "|:---|:---|:---|\n",
    "|101 | Aline|aline@example.com| \n",
    "|102 | Arto |arto@example.com|   \n",
    "|103 | Juho|juho@example.com|  \n",
    "\n",
    "**Dataset B:** Order Details (Order ID, Customer ID, Product, Quantity)\n",
    "\n",
    "|Order ID|Customer ID|Product|Quantity|\n",
    "|---|---|---|---|\n",
    "|5001| 101|Widget A|3|\n",
    "|5002| 102|Widget B|2|\n",
    "|5003|101|Widget C|1|\n",
    "   "
   ]
  },
  {
   "cell_type": "code",
   "execution_count": 1,
   "id": "67fc20c1-af40-4a0d-85c3-a5159c5922fe",
   "metadata": {},
   "outputs": [
    {
     "name": "stdout",
     "output_type": "stream",
     "text": [
      "   Customer ID   Name              Email  Order ID   Product  Quantity\n",
      "0          101  Aline  aline@example.com      5001  Widget A         3\n",
      "1          101  Aline  aline@example.com      5003  Widget C         1\n",
      "2          102   Arto   arto@example.com      5002  Widget B         2\n"
     ]
    }
   ],
   "source": [
    "import pandas as pd\n",
    "data_a = {'Customer ID': [101, 102, 103],\n",
    "          'Name': ['Aline', 'Arto', 'Juho'],\n",
    "          'Email': ['aline@example.com', 'arto@example.com', 'juho@example.com']}\n",
    "df_a = pd.DataFrame(data_a)\n",
    "\n",
    "data_b = {'Order ID': [5001, 5002, 5003],\n",
    "          'Customer ID': [101, 102, 101],\n",
    "          'Product': ['Widget A', 'Widget B', 'Widget C'],\n",
    "          'Quantity': [3, 2, 1]}\n",
    "df_b = pd.DataFrame(data_b)\n",
    "\n",
    "merged_data = pd.merge(df_a, df_b, on='Customer ID', how='inner')\n",
    "print(merged_data)\n"
   ]
  },
  {
   "cell_type": "markdown",
   "id": "fa5348c9-8ac7-4fc4-ba5b-6604a6c4f2a8",
   "metadata": {},
   "source": [
    "--------- \n",
    "2. Compile a comprehensive list of all employees, including those without salary information.   \n",
    "\n",
    "**Dataset A:** Employee Records (Employee ID, Name, Department)   \n",
    "| Employee ID  | Name  | Department |\t\n",
    "|---|---|---|\n",
    "| E01 | Marja  | Marketing \n",
    "| E02 | Paul  | Sales |\n",
    "| E03 | Tom  | IT  |\n",
    "   \n",
    "**Dataset B:**  Salary Information (Employee ID, Salary)\n",
    "    \n",
    "|Employee ID|\tSalary|\n",
    "|---|---|\n",
    "|E01|\t70000|\n",
    "|E03|\t85000|\n",
    "    "
   ]
  },
  {
   "cell_type": "code",
   "execution_count": 2,
   "id": "ab60d08b-e22c-44eb-875a-675956129bff",
   "metadata": {},
   "outputs": [
    {
     "name": "stdout",
     "output_type": "stream",
     "text": [
      "  Employee ID   Name Department   Salary\n",
      "0         E01  Marja  Marketing  70000.0\n",
      "1         E02   Paul      Sales      NaN\n",
      "2         E03    Tom         IT  85000.0\n"
     ]
    }
   ],
   "source": [
    "import pandas as pd\n",
    "data_a = {'Employee ID': ['E01', 'E02', 'E03'],\n",
    "          'Name': ['Marja', 'Paul', 'Tom'],\n",
    "          'Department': ['Marketing', 'Sales', 'IT']}\n",
    "df_a = pd.DataFrame(data_a)\n",
    "data_b = {'Employee ID': ['E01', 'E03'],\n",
    "          'Salary': [70000, 85000]}\n",
    "df_b = pd.DataFrame(data_b)\n",
    "merged_data = pd.merge(df_a, df_b, on='Employee ID', how='left')\n",
    "print(merged_data)\n"
   ]
  },
  {
   "cell_type": "markdown",
   "id": "c700ddca-4363-48f5-a101-b58f02cea8d8",
   "metadata": {},
   "source": [
    "______\n",
    "3. Generate a report showing all sales, including those for books not currently in the inventory.   \n",
    "\n",
    "**Dataset A:** Book Inventory (Book ID, Title, Author)    \n",
    "     \n",
    "|Book ID|Title\t|Author|\n",
    "|---|---|---|\n",
    "|B101|Mystery Island|A. Author|\n",
    "|B102|Science 101|B. Writer|      \n",
    "  \n",
    "**Dataset B:** Sales Data (Sale ID, Book ID, Quantity Sold)   \n",
    "\n",
    "|Sale ID|Book ID|Quantity Sold|\n",
    "|---|---|---|\n",
    "|S501|B101|40|\n",
    "|S502|B103|25|\n",
    "    "
   ]
  },
  {
   "cell_type": "code",
   "execution_count": 3,
   "id": "c6de2c5c-881c-4fbf-8422-0a7bb640095c",
   "metadata": {},
   "outputs": [
    {
     "name": "stdout",
     "output_type": "stream",
     "text": [
      "  Book ID           Title     Author Sale ID  Quantity Sold\n",
      "0    B101  Mystery Island  A. Author    S501           40.0\n",
      "1    B102     Science 101  B. Writer     NaN            NaN\n"
     ]
    }
   ],
   "source": [
    "import pandas as pd\n",
    "\n",
    "data_a = {'Book ID': ['B101', 'B102'],\n",
    "          'Title': ['Mystery Island', 'Science 101'],\n",
    "          'Author': ['A. Author', 'B. Writer']}\n",
    "df_a = pd.DataFrame(data_a)\n",
    "data_b = {'Sale ID': ['S501', 'S502'],\n",
    "          'Book ID': ['B101', 'B103'],\n",
    "          'Quantity Sold': [40, 25]}\n",
    "df_b = pd.DataFrame(data_b)\n",
    "\n",
    "merged_data = pd.merge(df_a, df_b, on='Book ID', how='left')\n",
    "print(merged_data)\n"
   ]
  },
  {
   "cell_type": "markdown",
   "id": "457eaf54-c513-496d-acd8-894acf92258a",
   "metadata": {},
   "source": [
    "------\n",
    "\n",
    "4.Create an overview showing all users and their purchasing history, including non-purchasing users and purchases by non-registered users.  \n",
    "\n",
    "**Dataset A:** Online Users (User ID, Name, Last Login)    \n",
    "   \n",
    "|User ID|Name|Last Login|\n",
    "|---|---|---|\n",
    "|U101|\tAleski |2023-01-10|\n",
    "|U102|\t|Sammi|\t2023-01-15|\n",
    "\n",
    "    \n",
    "**Dataset B:** Purchase History (User ID, Purchase Amount)  \n",
    "    \n",
    "|User ID|Purchase Amount|\n",
    "|---|---|\n",
    "|U101|\t150|\n",
    "|U103|\t200|\n",
    "    "
   ]
  },
  {
   "cell_type": "code",
   "execution_count": 6,
   "id": "080f7447-dd80-4842-8ea9-996396e400d4",
   "metadata": {},
   "outputs": [
    {
     "name": "stdout",
     "output_type": "stream",
     "text": [
      "  User ID    Name  Last Login  Purchase Amount\n",
      "0    U101  Aleski  2023-01-10            150.0\n",
      "1    U102   Sammi        None              NaN\n"
     ]
    }
   ],
   "source": [
    "import pandas as pd\n",
    "data_a = {'User ID': ['U101', 'U102'],\n",
    "          'Name': ['Aleski', 'Sammi'],\n",
    "          'Last Login': ['2023-01-10', None]}\n",
    "df_a = pd.DataFrame(data_a)\n",
    "\n",
    "data_b = {'User ID': ['U101', 'U103'],\n",
    "          'Purchase Amount': [150, 200]}\n",
    "df_b = pd.DataFrame(data_b)\n",
    "\n",
    "merged_data = pd.merge(df_a, df_b, on='User ID', how='left')\n",
    "\n",
    "print(merged_data)\n"
   ]
  },
  {
   "cell_type": "markdown",
   "id": "075c5951-9755-4893-a7a8-427e31666bf1",
   "metadata": {},
   "source": [
    "----- \n",
    "5. Combine these datasets to form a comprehensive half-yearly sales report.   \n",
    "    \n",
    "**Dataset A:** Sales Q1 (Sale ID, Product, Amount)   \n",
    "    \n",
    "|Sale ID|Product| Amount|\n",
    "|---|---|---|\n",
    "|SA1001|Widget A|200|\n",
    "|SA1002|Widget B|150|\n",
    "     \n",
    "**Dataset B:** Sales Q2 (Sale ID, Product, Amount)   \n",
    "     \n",
    "|Sale ID|Product|Amount|\n",
    "|---|---|---|\n",
    "|SA2001\t|Widget C|300|\n",
    "|SA2002\t|Widget A|100|   \n"
   ]
  },
  {
   "cell_type": "code",
   "execution_count": 7,
   "id": "6ee52a5d-74e4-4071-a3bd-6ac1b109ba53",
   "metadata": {},
   "outputs": [
    {
     "name": "stdout",
     "output_type": "stream",
     "text": [
      "  Sale ID   Product  Amount\n",
      "0  SA1001  Widget A     200\n",
      "1  SA1002  Widget B     150\n",
      "2  SA2001  Widget C     300\n",
      "3  SA2002  Widget A     100\n"
     ]
    }
   ],
   "source": [
    "import pandas as pd\n",
    "data_q1 = {'Sale ID': ['SA1001', 'SA1002'],\n",
    "           'Product': ['Widget A', 'Widget B'],\n",
    "           'Amount': [200, 150]}\n",
    "df_q1 = pd.DataFrame(data_q1)\n",
    "data_q2 = {'Sale ID': ['SA2001', 'SA2002'],\n",
    "           'Product': ['Widget C', 'Widget A'],\n",
    "           'Amount': [300, 100]}\n",
    "df_q2 = pd.DataFrame(data_q2)\n",
    "comprehensive_report = pd.concat([df_q1, df_q2], ignore_index=True)\n",
    "print(comprehensive_report)\n"
   ]
  },
  {
   "cell_type": "code",
   "execution_count": null,
   "id": "b88c278c-ef40-494b-b88a-7d9f24585006",
   "metadata": {},
   "outputs": [],
   "source": []
  }
 ],
 "metadata": {
  "kernelspec": {
   "display_name": "Python 3 (ipykernel)",
   "language": "python",
   "name": "python3"
  },
  "language_info": {
   "codemirror_mode": {
    "name": "ipython",
    "version": 3
   },
   "file_extension": ".py",
   "mimetype": "text/x-python",
   "name": "python",
   "nbconvert_exporter": "python",
   "pygments_lexer": "ipython3",
   "version": "3.10.6"
  }
 },
 "nbformat": 4,
 "nbformat_minor": 5
}
