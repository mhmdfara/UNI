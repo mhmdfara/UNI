{
 "cells": [
  {
   "cell_type": "code",
   "execution_count": 29,
   "id": "ae6ebd02-1143-4e70-b603-4df4ff9fcd88",
   "metadata": {},
   "outputs": [],
   "source": [
    "import pandas as pd\n",
    "import numpy as np\n",
    "import matplotlib.pyplot as plt\n",
    "import seaborn as sns\n",
    "from sklearn.model_selection import train_test_split\n",
    "from sklearn.experimental import enable_iterative_imputer\n",
    "from sklearn.impute import IterativeImputer\n",
    "from sklearn.preprocessing import StandardScaler, MinMaxScaler\n",
    "from sklearn.linear_model import LogisticRegression\n",
    "from sklearn.metrics import confusion_matrix, accuracy_score\n",
    "\n",
    "from sklearn.impute import SimpleImputer\n"
   ]
  },
  {
   "cell_type": "code",
   "execution_count": 30,
   "id": "50a70274-778a-4b97-9d77-99a9b7313cce",
   "metadata": {},
   "outputs": [
    {
     "data": {
      "text/html": [
       "<div>\n",
       "<style scoped>\n",
       "    .dataframe tbody tr th:only-of-type {\n",
       "        vertical-align: middle;\n",
       "    }\n",
       "\n",
       "    .dataframe tbody tr th {\n",
       "        vertical-align: top;\n",
       "    }\n",
       "\n",
       "    .dataframe thead th {\n",
       "        text-align: right;\n",
       "    }\n",
       "</style>\n",
       "<table border=\"1\" class=\"dataframe\">\n",
       "  <thead>\n",
       "    <tr style=\"text-align: right;\">\n",
       "      <th></th>\n",
       "      <th>Pregnancies</th>\n",
       "      <th>Glucose</th>\n",
       "      <th>BloodPressure</th>\n",
       "      <th>SkinThickness</th>\n",
       "      <th>Insulin</th>\n",
       "      <th>BMI</th>\n",
       "      <th>DiabetesPedigreeFunction</th>\n",
       "      <th>Age</th>\n",
       "      <th>Outcome</th>\n",
       "    </tr>\n",
       "  </thead>\n",
       "  <tbody>\n",
       "    <tr>\n",
       "      <th>0</th>\n",
       "      <td>6</td>\n",
       "      <td>148</td>\n",
       "      <td>72</td>\n",
       "      <td>35</td>\n",
       "      <td>0</td>\n",
       "      <td>33.6</td>\n",
       "      <td>0.627</td>\n",
       "      <td>50</td>\n",
       "      <td>1</td>\n",
       "    </tr>\n",
       "    <tr>\n",
       "      <th>1</th>\n",
       "      <td>1</td>\n",
       "      <td>85</td>\n",
       "      <td>66</td>\n",
       "      <td>29</td>\n",
       "      <td>0</td>\n",
       "      <td>26.6</td>\n",
       "      <td>0.351</td>\n",
       "      <td>31</td>\n",
       "      <td>0</td>\n",
       "    </tr>\n",
       "    <tr>\n",
       "      <th>2</th>\n",
       "      <td>8</td>\n",
       "      <td>183</td>\n",
       "      <td>64</td>\n",
       "      <td>0</td>\n",
       "      <td>0</td>\n",
       "      <td>23.3</td>\n",
       "      <td>0.672</td>\n",
       "      <td>32</td>\n",
       "      <td>1</td>\n",
       "    </tr>\n",
       "    <tr>\n",
       "      <th>3</th>\n",
       "      <td>1</td>\n",
       "      <td>89</td>\n",
       "      <td>66</td>\n",
       "      <td>23</td>\n",
       "      <td>94</td>\n",
       "      <td>28.1</td>\n",
       "      <td>0.167</td>\n",
       "      <td>21</td>\n",
       "      <td>0</td>\n",
       "    </tr>\n",
       "    <tr>\n",
       "      <th>4</th>\n",
       "      <td>0</td>\n",
       "      <td>137</td>\n",
       "      <td>40</td>\n",
       "      <td>35</td>\n",
       "      <td>168</td>\n",
       "      <td>43.1</td>\n",
       "      <td>2.288</td>\n",
       "      <td>33</td>\n",
       "      <td>1</td>\n",
       "    </tr>\n",
       "  </tbody>\n",
       "</table>\n",
       "</div>"
      ],
      "text/plain": [
       "   Pregnancies  Glucose  BloodPressure  SkinThickness  Insulin   BMI  \\\n",
       "0            6      148             72             35        0  33.6   \n",
       "1            1       85             66             29        0  26.6   \n",
       "2            8      183             64              0        0  23.3   \n",
       "3            1       89             66             23       94  28.1   \n",
       "4            0      137             40             35      168  43.1   \n",
       "\n",
       "   DiabetesPedigreeFunction  Age  Outcome  \n",
       "0                     0.627   50        1  \n",
       "1                     0.351   31        0  \n",
       "2                     0.672   32        1  \n",
       "3                     0.167   21        0  \n",
       "4                     2.288   33        1  "
      ]
     },
     "execution_count": 30,
     "metadata": {},
     "output_type": "execute_result"
    }
   ],
   "source": [
    "data = pd.read_csv('diabetess.csv')\n",
    "data.head()"
   ]
  },
  {
   "cell_type": "code",
   "execution_count": 31,
   "id": "725bf835-cbda-4b44-994a-1b3297087d85",
   "metadata": {},
   "outputs": [],
   "source": [
    "def outliers_base_group(column, replace=np.nan):\n",
    "    Q1, Q3 = np.percentile(column, [25, 75])\n",
    "    IQR = Q3 - Q1\n",
    "    return column.where((column > (Q1 - 1.5 * IQR)) & (column < (Q3 + 1.5 * IQR)), replace)\n",
    "\n",
    "columns_to_handle_nan = ['Glucose', 'BloodPressure', 'SkinThickness', 'Insulin', 'BMI', 'DiabetesPedigreeFunction']\n",
    "\n",
    "for method in ['mean', 'median', 'most_frequent']:\n",
    "    imputer = SimpleImputer(strategy=method)\n",
    "    for col in columns_to_handle_nan:\n",
    "        data[f'{col}_{method}'] = data.groupby('Outcome')[col].transform(lambda x: outliers_base_group(x))\n",
    "\n",
    "X = data.drop(['Outcome'], axis=1)\n",
    "y = data['Outcome']\n",
    "\n",
    "X_train, X_test, y_train, y_test = train_test_split(X, y, test_size=0.30, random_state=42)\n"
   ]
  },
  {
   "cell_type": "code",
   "execution_count": 32,
   "id": "59153264-4a14-4d77-b4d6-dbfc922bb5e5",
   "metadata": {},
   "outputs": [],
   "source": [
    "X = data_imputed.drop(['Outcome'], axis=1)\n",
    "y = data_imputed['Outcome']\n",
    "X_train, X_test, y_train, y_test = train_test_split(X, y, test_size=0.30, random_state=42)\n"
   ]
  },
  {
   "cell_type": "code",
   "execution_count": 33,
   "id": "68749854-d95a-4b88-8c1a-1047f02513ab",
   "metadata": {},
   "outputs": [
    {
     "name": "stderr",
     "output_type": "stream",
     "text": [
      "/home/mohammad/.local/lib/python3.10/site-packages/sklearn/linear_model/_logistic.py:444: ConvergenceWarning: lbfgs failed to converge (status=1):\n",
      "STOP: TOTAL NO. of ITERATIONS REACHED LIMIT.\n",
      "\n",
      "Increase the number of iterations (max_iter) or scale the data as shown in:\n",
      "    https://scikit-learn.org/stable/modules/preprocessing.html\n",
      "Please also refer to the documentation for alternative solver options:\n",
      "    https://scikit-learn.org/stable/modules/linear_model.html#logistic-regression\n",
      "  n_iter_i = _check_optimize_result(\n"
     ]
    }
   ],
   "source": [
    "model_unscaled = LogisticRegression().fit(X_train, y_train)\n",
    "y_pred_unscaled = model_unscaled.predict(X_test)\n"
   ]
  },
  {
   "cell_type": "code",
   "execution_count": 34,
   "id": "bde7a75e-786a-493f-a7e2-005f239d68fb",
   "metadata": {},
   "outputs": [],
   "source": [
    "scaler_std = StandardScaler()\n",
    "X_standard_scaled = pd.DataFrame(scaler_std.fit_transform(X_train), columns=X_train.columns)\n",
    "X_standard_test_scaled = pd.DataFrame(scaler_std.transform(X_test), columns=X_test.columns)\n",
    "model_standard_scaled = LogisticRegression().fit(X_standard_scaled, y_train)\n",
    "y_pred_standard_scaled = model_standard_scaled.predict(X_standard_test_scaled)\n"
   ]
  },
  {
   "cell_type": "code",
   "execution_count": 35,
   "id": "c85148e9-6e5c-4378-9525-ace5dfe6b956",
   "metadata": {},
   "outputs": [],
   "source": [
    "scaler_minmax = MinMaxScaler()\n",
    "X_minmax_scaled = pd.DataFrame(scaler_minmax.fit_transform(X_train), columns=X_train.columns)\n",
    "X_minmax_test_scaled = pd.DataFrame(scaler_minmax.transform(X_test), columns=X_test.columns)\n",
    "model_minmax_scaled = LogisticRegression().fit(X_minmax_scaled, y_train)\n",
    "y_pred_minmax_scaled = model_minmax_scaled.predict(X_minmax_test_scaled)\n"
   ]
  },
  {
   "cell_type": "code",
   "execution_count": 36,
   "id": "8abeb090-1f8f-40e7-8386-10847a545687",
   "metadata": {},
   "outputs": [],
   "source": [
    "def eve(y_true, y_pred, label):\n",
    "    accuracy = accuracy_score(y_true, y_pred)\n",
    "    confusion = confusion_matrix(y_true, y_pred)\n",
    "    \n",
    "    print(f\"\\n{label} Model:\")\n",
    "    print(f\"Accuracy: {accuracy:.2%}\")\n",
    "    print(\"Confusion Matrix:\")\n",
    "    print(confusion)"
   ]
  },
  {
   "cell_type": "code",
   "execution_count": 37,
   "id": "fd37b28a-599e-42b2-9df0-e80c2153f96a",
   "metadata": {},
   "outputs": [
    {
     "name": "stdout",
     "output_type": "stream",
     "text": [
      "\n",
      "Unscaled Model:\n",
      "Accuracy: 76.62%\n",
      "Confusion Matrix:\n",
      "[[131  20]\n",
      " [ 34  46]]\n"
     ]
    }
   ],
   "source": [
    "eve(y_test, y_pred_unscaled, \"Unscaled\")"
   ]
  },
  {
   "cell_type": "code",
   "execution_count": 38,
   "id": "3d2ffc5c-8c0f-46c0-a300-f3170d7a0c87",
   "metadata": {},
   "outputs": [
    {
     "name": "stdout",
     "output_type": "stream",
     "text": [
      "\n",
      "Standard Scaled Model:\n",
      "Accuracy: 77.06%\n",
      "Confusion Matrix:\n",
      "[[125  26]\n",
      " [ 27  53]]\n"
     ]
    }
   ],
   "source": [
    "eve(y_test, y_pred_standard_scaled, \"Standard Scaled\")"
   ]
  },
  {
   "cell_type": "code",
   "execution_count": 39,
   "id": "d1985430-f35b-40f0-9315-eadc03350fb6",
   "metadata": {},
   "outputs": [
    {
     "name": "stdout",
     "output_type": "stream",
     "text": [
      "\n",
      "Min-Max Scaled Model:\n",
      "Accuracy: 77.06%\n",
      "Confusion Matrix:\n",
      "[[128  23]\n",
      " [ 30  50]]\n"
     ]
    }
   ],
   "source": [
    "eve(y_test, y_pred_minmax_scaled, \"Min-Max Scaled\")"
   ]
  },
  {
   "cell_type": "code",
   "execution_count": null,
   "id": "47804024-d598-4cd3-9ac6-858dd3a7ebbd",
   "metadata": {},
   "outputs": [],
   "source": []
  }
 ],
 "metadata": {
  "kernelspec": {
   "display_name": "Python 3 (ipykernel)",
   "language": "python",
   "name": "python3"
  },
  "language_info": {
   "codemirror_mode": {
    "name": "ipython",
    "version": 3
   },
   "file_extension": ".py",
   "mimetype": "text/x-python",
   "name": "python",
   "nbconvert_exporter": "python",
   "pygments_lexer": "ipython3",
   "version": "3.10.6"
  }
 },
 "nbformat": 4,
 "nbformat_minor": 5
}
