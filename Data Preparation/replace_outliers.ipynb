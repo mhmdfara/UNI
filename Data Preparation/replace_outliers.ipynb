{
 "cells": [
  {
   "cell_type": "code",
   "execution_count": 13,
   "id": "0cbc1006-a221-4a48-8fbc-2b5878cfa680",
   "metadata": {},
   "outputs": [],
   "source": [
    "import pandas as pd\n",
    "\n",
    "def replace_outliers_iqr(df, column_name):\n",
    "    q1 = df[column_name].quantile(0.25)\n",
    "    q3 = df[column_name].quantile(0.75)\n",
    "    iqr = q3 - q1\n",
    "\n",
    "    lower_bound = q1 - 1.5 * iqr\n",
    "    upper_bound = q3 + 1.5 * iqr\n",
    "\n",
    "    df[column_name] = df[column_name].apply(lambda x: x if lower_bound <= x <= upper_bound else float('nan'))\n",
    "\n",
    "    return df\n",
    "\n",
    "def replace_outliers_zscore(df, column_name):\n",
    "    z_scores = (df[column_name] - df[column_name].mean()) / df[column_name].std()\n",
    "\n",
    "    df[column_name] = df[column_name].apply(lambda x: x if -3 <= x <= 3 else float('nan'))\n",
    "\n",
    "    return df\n"
   ]
  },
  {
   "cell_type": "code",
   "execution_count": 17,
   "id": "de263e80-8822-4c2d-af44-e126ac1572b4",
   "metadata": {},
   "outputs": [
    {
     "name": "stdout",
     "output_type": "stream",
     "text": [
      "Original Dataset:\n",
      "      CRIM    ZN  INDUS  CHAS    NOX     RM   AGE     DIS  RAD    TAX  \\\n",
      "0  0.00632  18.0   2.31     0  0.538  6.575  65.2  4.0900    1  296.0   \n",
      "1  0.02731   0.0   7.07     0  0.469  6.421  78.9  4.9671    2  242.0   \n",
      "2  0.02729   0.0   7.07     0  0.469  7.185  61.1  4.9671    2  242.0   \n",
      "3  0.03237   0.0   2.18     0  0.458  6.998  45.8  6.0622    3  222.0   \n",
      "4  0.06905   0.0   2.18     0  0.458  7.147  54.2  6.0622    3  222.0   \n",
      "\n",
      "   PTRATIO       B  LSTAT  MEDV  \n",
      "0     15.3  396.90   4.98  24.0  \n",
      "1     17.8  396.90   9.14  21.6  \n",
      "2     17.8  392.83   4.03  34.7  \n",
      "3     18.7  394.63   2.94  33.4  \n",
      "4     18.7  396.90   5.33  36.2  \n",
      "\n",
      "Modified Dataset - IQR:\n",
      "      CRIM    ZN  INDUS  CHAS    NOX     RM   AGE     DIS  RAD    TAX  \\\n",
      "0  0.00632  18.0   2.31     0  0.538  6.575  65.2  4.0900    1  296.0   \n",
      "1  0.02731   0.0   7.07     0  0.469  6.421  78.9  4.9671    2  242.0   \n",
      "2  0.02729   0.0   7.07     0  0.469  7.185  61.1  4.9671    2  242.0   \n",
      "3  0.03237   0.0   2.18     0  0.458  6.998  45.8  6.0622    3  222.0   \n",
      "4  0.06905   0.0   2.18     0  0.458  7.147  54.2  6.0622    3  222.0   \n",
      "\n",
      "   PTRATIO       B  LSTAT  MEDV  \n",
      "0     15.3  396.90   4.98  24.0  \n",
      "1     17.8  396.90   9.14  21.6  \n",
      "2     17.8  392.83   4.03  34.7  \n",
      "3     18.7  394.63   2.94  33.4  \n",
      "4     18.7  396.90   5.33  36.2  \n",
      "\n",
      "Modified Dataset - Z-Score:\n",
      "      CRIM    ZN  INDUS  CHAS    NOX     RM   AGE     DIS  RAD    TAX  \\\n",
      "0  0.00632  18.0   2.31     0  0.538  6.575  65.2  4.0900    1  296.0   \n",
      "1  0.02731   0.0   7.07     0  0.469  6.421  78.9  4.9671    2  242.0   \n",
      "2  0.02729   0.0   7.07     0  0.469  7.185  61.1  4.9671    2  242.0   \n",
      "3  0.03237   0.0   2.18     0  0.458  6.998  45.8  6.0622    3  222.0   \n",
      "4  0.06905   0.0   2.18     0  0.458  7.147  54.2  6.0622    3  222.0   \n",
      "\n",
      "   PTRATIO       B  LSTAT  MEDV  \n",
      "0     15.3  396.90   4.98  24.0  \n",
      "1     17.8  396.90   9.14  21.6  \n",
      "2     17.8  392.83   4.03  34.7  \n",
      "3     18.7  394.63   2.94  33.4  \n",
      "4     18.7  396.90   5.33  36.2  \n"
     ]
    }
   ],
   "source": [
    "import pandas as pd\n",
    "\n",
    "\n",
    "df = pd.read_csv('boston.csv')\n",
    "\n",
    "print(\"Original Dataset:\")\n",
    "print(df.head())\n",
    "\n",
    "column_name = 'CRIM'  \n",
    "\n",
    "df_iqr = replace_outliers_iqr(df.copy(), column_name)\n",
    "\n",
    "\n",
    "df_zscore = replace_outliers_zscore(df.copy(), column_name)\n",
    "\n",
    "\n",
    "print(\"\\nModified Dataset - IQR:\")\n",
    "print(df_iqr.head())\n",
    "\n",
    "print(\"\\nModified Dataset - Z-Score:\")\n",
    "print(df_zscore.head())\n"
   ]
  },
  {
   "cell_type": "code",
   "execution_count": 18,
   "id": "e2a6f4b5-d63d-47aa-82f0-894d4fdad1ed",
   "metadata": {},
   "outputs": [
    {
     "name": "stdout",
     "output_type": "stream",
     "text": [
      "\n",
      "NaN Values in Modified Dataset - IQR:\n",
      "66\n",
      "\n",
      "NaN Values in Modified Dataset - Z-Score:\n",
      "133\n"
     ]
    }
   ],
   "source": [
    "print(\"\\nNaN Values in Modified Dataset - IQR:\")\n",
    "print(df_iqr[column_name].isna().sum())\n",
    "\n",
    "print(\"\\nNaN Values in Modified Dataset - Z-Score:\")\n",
    "print(df_zscore[column_name].isna().sum())\n"
   ]
  },
  {
   "cell_type": "code",
   "execution_count": null,
   "id": "2af64057-5745-4bab-98ac-3c21201f93ad",
   "metadata": {},
   "outputs": [],
   "source": [
    "#Functions:\n",
    "\n",
    "#replace_outliers_iqr: Marks extreme values in a column as NaN based on quartiles and interquartile range.\n",
    "#replace_outliers_zscore: Flags outliers in a column as NaN using Z-Scores.\n",
    "#Usage:\n",
    "\n",
    "#Load dataset with pd.read_csv('boston.csv').\n",
    "#Apply functions to a chosen column, like replace_outliers_iqr(df, 'your_column').\n",
    "#Scenarios:\n",
    "\n",
    "#NaNs keep the dataset intact, useful when outlier info is valuable.\n",
    "#Provides flexibility for downstream processes."
   ]
  }
 ],
 "metadata": {
  "kernelspec": {
   "display_name": "Python 3 (ipykernel)",
   "language": "python",
   "name": "python3"
  },
  "language_info": {
   "codemirror_mode": {
    "name": "ipython",
    "version": 3
   },
   "file_extension": ".py",
   "mimetype": "text/x-python",
   "name": "python",
   "nbconvert_exporter": "python",
   "pygments_lexer": "ipython3",
   "version": "3.10.6"
  }
 },
 "nbformat": 4,
 "nbformat_minor": 5
}
