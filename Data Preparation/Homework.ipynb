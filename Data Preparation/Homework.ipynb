{
 "cells": [
  {
   "cell_type": "code",
   "execution_count": 2,
   "id": "751190c9-55ec-40ff-a0de-21f3694b80db",
   "metadata": {},
   "outputs": [],
   "source": [
    "import pandas as pd"
   ]
  },
  {
   "cell_type": "code",
   "execution_count": 6,
   "id": "3f464e4e-d27c-4c6e-b207-1fc843f1af65",
   "metadata": {},
   "outputs": [],
   "source": [
    "file_path_lessons = 'lessons_data_arrestee.csv'  \n",
    "data_lessons = pd.read_csv(file_path_lessons)"
   ]
  },
  {
   "cell_type": "code",
   "execution_count": 7,
   "id": "5fae1af6-5f5e-4566-b18a-0c75974c34da",
   "metadata": {},
   "outputs": [
    {
     "name": "stdout",
     "output_type": "stream",
     "text": [
      "   DATA_YEAR_  ARRESTEE_ID_  INCIDENT_ID_  ARRESTEE_SEQ_NUM_ ARREST_DATE_  \\\n",
      "0      2020.0    41269812.0   133608918.0                3.0    29.Oct.20   \n",
      "1      2020.0    41262310.0   133596042.0                1.0    12.Sep.20   \n",
      "2      2020.0    41264876.0   133600909.0                1.0     1.Oct.20   \n",
      "3      2020.0    39038834.0   126409198.0                1.0    15.Mar.20   \n",
      "4      2020.0    38983512.0   126211731.0                2.0    10.Jan.20   \n",
      "\n",
      "   ARREST_TYPE_ID_ MULTIPLE_INDICATOR_  OFFENSE_TYPE_ID_  AGE_ID_  AGE_NUM_  \\\n",
      "0              3.0                   N              21.0      5.0      21.0   \n",
      "1              3.0                   N               5.0      5.0      33.0   \n",
      "2              1.0                   N              27.0      5.0      53.0   \n",
      "3              3.0                   N              51.0      5.0      29.0   \n",
      "4              1.0                   N              51.0      5.0      32.0   \n",
      "\n",
      "   ... HC_FLAG_  HC_CODE_                    OFFENSE_CATEGORY_NAME_  \\\n",
      "0  ...        Y      7,,0                       Motor Vehicle Theft   \n",
      "1  ...        Y     11,,0  Destruction/Damage/Vandalism of Property   \n",
      "2  ...        Y      4,,0                          Assault Offenses   \n",
      "3  ...        Y      9,,0                          Assault Offenses   \n",
      "4  ...        Y      9,,0                          Assault Offenses   \n",
      "\n",
      "  OFFENSE_GROUP_ RACE_CODE_                  RACE_DESC_  SORT_ORDER_  \\\n",
      "0              A          B  Black or African  American         20.0   \n",
      "1              A          W                      Wh ite         10.0   \n",
      "2              A          B   Black or African American         20.0   \n",
      "3              A          W                       White         10.0   \n",
      "4              A          B   Black or African American         20.0   \n",
      "\n",
      "   START_YEAR_ END_YEAR_ NOTES_  \n",
      "0          NaN       b''    NaN  \n",
      "1          NaN       b''    NaN  \n",
      "2          NaN       b''    NaN  \n",
      "3          NaN       b''    NaN  \n",
      "4          NaN       b''    NaN  \n",
      "\n",
      "[5 rows x 47 columns]\n"
     ]
    }
   ],
   "source": [
    "print(data_lessons.head()) "
   ]
  },
  {
   "cell_type": "code",
   "execution_count": 9,
   "id": "0eacecfb-ed27-4150-8e90-13a8709d0b5e",
   "metadata": {},
   "outputs": [
    {
     "name": "stdout",
     "output_type": "stream",
     "text": [
      "2020.0\n"
     ]
    }
   ],
   "source": [
    "highest_arrests_year_lessons = data_lessons['DATA_YEAR_'].value_counts().idxmax()\n",
    "print(highest_arrests_year_lessons)"
   ]
  },
  {
   "cell_type": "code",
   "execution_count": 11,
   "id": "0e73f574-1a22-4b2d-9b88-2cbe6026534f",
   "metadata": {},
   "outputs": [
    {
     "name": "stdout",
     "output_type": "stream",
     "text": [
      "OFFENSE_TYPE_ID_\n",
      "2.0      35.571429\n",
      "3.0      23.000000\n",
      "5.0      31.715217\n",
      "7.0      36.684211\n",
      "8.0      41.800000\n",
      "11.0     33.981132\n",
      "12.0     28.500000\n",
      "13.0     22.000000\n",
      "14.0     30.902439\n",
      "15.0     30.000000\n",
      "16.0     31.919067\n",
      "18.0     35.760000\n",
      "20.0     37.055556\n",
      "21.0     27.328671\n",
      "23.0     36.699308\n",
      "26.0     21.000000\n",
      "27.0     34.676525\n",
      "28.0     29.697115\n",
      "29.0     34.266667\n",
      "30.0     36.125000\n",
      "32.0     30.272727\n",
      "35.0     33.396552\n",
      "36.0     31.866667\n",
      "37.0     22.666667\n",
      "39.0     30.315789\n",
      "40.0     26.730496\n",
      "43.0    307.916667\n",
      "44.0     34.953678\n",
      "45.0     34.473404\n",
      "46.0     32.984375\n",
      "47.0     32.663866\n",
      "49.0     33.049351\n",
      "50.0     31.500000\n",
      "51.0     38.715116\n",
      "56.0     36.523810\n",
      "63.0     30.384615\n",
      "Name: AGE_NUM_, dtype: float64\n"
     ]
    }
   ],
   "source": [
    "average_age_by_offense = data.groupby('OFFENSE_TYPE_ID_')['AGE_NUM_'].mean()\n",
    "print(average_age_by_offense)"
   ]
  },
  {
   "cell_type": "code",
   "execution_count": 13,
   "id": "d1121f46-4b50-42c8-9926-092556f00a65",
   "metadata": {},
   "outputs": [
    {
     "name": "stdout",
     "output_type": "stream",
     "text": [
      "8.0\n"
     ]
    }
   ],
   "source": [
    "highest_median_age_offense = data.groupby('OFFENSE_TYPE_ID_')['AGE_NUM_'].median().idxmax()\n",
    "print(highest_median_age_offense)"
   ]
  },
  {
   "cell_type": "code",
   "execution_count": 14,
   "id": "4876e34b-96e0-426e-ab91-cc99d3a71c01",
   "metadata": {},
   "outputs": [
    {
     "name": "stdout",
     "output_type": "stream",
     "text": [
      "OFFENSE_TYPE_ID_  DATA_YEAR_\n",
      "2.0               2020.0           7\n",
      "3.0               2020.0           4\n",
      "5.0               2020.0         920\n",
      "7.0               2020.0          19\n",
      "8.0               2020.0           5\n",
      "11.0              2020.0          53\n",
      "12.0              2020.0           2\n",
      "13.0              2020.0           1\n",
      "14.0              2020.0          41\n",
      "15.0              2020.0           1\n",
      "16.0              2020.0        1449\n",
      "                  2021.0           9\n",
      "18.0              2020.0          25\n",
      "20.0              2020.0          18\n",
      "21.0              2020.0         143\n",
      "23.0              2020.0        1879\n",
      "26.0              2020.0           1\n",
      "27.0              2020.0         541\n",
      "28.0              2020.0         208\n",
      "29.0              2020.0          60\n",
      "30.0              2020.0          24\n",
      "32.0              2020.0          11\n",
      "35.0              2020.0          58\n",
      "36.0              2020.0          15\n",
      "37.0              2020.0           3\n",
      "39.0              2020.0         171\n",
      "40.0              2020.0         141\n",
      "43.0              2020.0          12\n",
      "44.0              2020.0         367\n",
      "45.0              2020.0         939\n",
      "                  2021.0           1\n",
      "46.0              2020.0          64\n",
      "47.0              2020.0         119\n",
      "49.0              2020.0         385\n",
      "50.0              2020.0           2\n",
      "51.0              2020.0        1548\n",
      "56.0              2020.0          63\n",
      "63.0              2020.0          13\n",
      "Name: ARRESTEE_ID_, dtype: int64\n"
     ]
    }
   ],
   "source": [
    "arrests_by_offense_and_year = data.groupby(['OFFENSE_TYPE_ID_', 'DATA_YEAR_'])['ARRESTEE_ID_'].count()\n",
    "print(arrests_by_offense_and_year)"
   ]
  },
  {
   "cell_type": "code",
   "execution_count": 15,
   "id": "8eb1471b-c76c-4883-b4c8-9a07368a8ec6",
   "metadata": {},
   "outputs": [
    {
     "name": "stdout",
     "output_type": "stream",
     "text": [
      "OFFENSE_CATEGORY_NAME_  RACE_DESC_               \n",
      "Ar son                  Black or African American     1\n",
      "Arson                   Black or African American     6\n",
      "                        White                        11\n",
      "Ass ault Offenses       Black or African American     1\n",
      "Assa ult Offenses       Black or African American     1\n",
      "                                                     ..\n",
      "Weapon Law Violations   Asian                         2\n",
      "                        Black or African American    86\n",
      "                        Unknown                       3\n",
      "                        White                        80\n",
      "assault Offenses        White                         1\n",
      "Name: ARRESTEE_ID_, Length: 95, dtype: int64\n"
     ]
    }
   ],
   "source": [
    "arrests_distribution_by_race = data.groupby(['OFFENSE_CATEGORY_NAME_', 'RACE_DESC_'])['ARRESTEE_ID_'].count()\n",
    "print(arrests_distribution_by_race)"
   ]
  },
  {
   "cell_type": "code",
   "execution_count": 16,
   "id": "c60b0866-0fff-458e-8bef-4e4f044ed6e8",
   "metadata": {},
   "outputs": [
    {
     "name": "stdout",
     "output_type": "stream",
     "text": [
      "0       -0.544096\n",
      "1        0.087075\n",
      "2        1.411089\n",
      "3       -0.083671\n",
      "4       -0.057833\n",
      "          ...    \n",
      "9317     3.671350\n",
      "9318     9.430806\n",
      "9319    40.886173\n",
      "9320     3.175121\n",
      "9321    18.182732\n",
      "Name: AGE_NUM_, Length: 9322, dtype: float64\n"
     ]
    },
    {
     "name": "stderr",
     "output_type": "stream",
     "text": [
      "/tmp/ipykernel_410/3919629983.py:1: FutureWarning: Not prepending group keys to the result index of transform-like apply. In the future, the group keys will be included in the index, regardless of whether the applied function returns a like-indexed object.\n",
      "To preserve the previous behavior, use\n",
      "\n",
      "\t>>> .groupby(..., group_keys=False)\n",
      "\n",
      "To adopt the future behavior and silence this warning, use \n",
      "\n",
      "\t>>> .groupby(..., group_keys=True)\n",
      "  z_score_by_offense = data.groupby('OFFENSE_TYPE_ID_')['AGE_NUM_'].apply(lambda x: (x - x.mean()) / x.std())\n"
     ]
    }
   ],
   "source": [
    "z_score_by_offense = data.groupby('OFFENSE_TYPE_ID_')['AGE_NUM_'].apply(lambda x: (x - x.mean()) / x.std())\n",
    "print(z_score_by_offense)"
   ]
  },
  {
   "cell_type": "code",
   "execution_count": 17,
   "id": "42176826-38ae-4133-b6cd-281a2f8d5227",
   "metadata": {},
   "outputs": [
    {
     "name": "stdout",
     "output_type": "stream",
     "text": [
      "0       0.000020\n",
      "1       0.000020\n",
      "2       0.000020\n",
      "3       0.000015\n",
      "4       0.000015\n",
      "          ...   \n",
      "9817         NaN\n",
      "9818         NaN\n",
      "9819         NaN\n",
      "9820         NaN\n",
      "9821         NaN\n",
      "Name: ARRESTEE_ID_, Length: 9822, dtype: float64\n"
     ]
    }
   ],
   "source": [
    "normalized_arrests_by_year = data.groupby('DATA_YEAR_')['ARRESTEE_ID_'].transform(lambda x: (x - x.min()) / (x.max() - x.min()))\n",
    "print(normalized_arrests_by_year)"
   ]
  },
  {
   "cell_type": "code",
   "execution_count": 18,
   "id": "f37e4c8f-ceb0-4e9a-82f2-2054b3fd0488",
   "metadata": {},
   "outputs": [
    {
     "name": "stdout",
     "output_type": "stream",
     "text": [
      "      DATA_YEAR_  ARRESTEE_ID_  INCIDENT_ID_  ARRESTEE_SEQ_NUM_ ARREST_DATE_  \\\n",
      "0         2020.0  4.126981e+07  1.336089e+08                3.0    29.Oct.20   \n",
      "1         2020.0  4.126231e+07  1.335960e+08                1.0    12.Sep.20   \n",
      "2         2020.0  4.126488e+07  1.336009e+08                1.0     1.Oct.20   \n",
      "3         2020.0  3.903883e+07  1.264092e+08                1.0    15.Mar.20   \n",
      "4         2020.0  3.898351e+07  1.262117e+08                2.0    10.Jan.20   \n",
      "...          ...           ...           ...                ...          ...   \n",
      "9316      2020.0  3.229867e+09  3.223987e+10                1.0    27.Aug.20   \n",
      "9317      2020.0  3.223987e+10  3.223764e+09              135.0    30.Jun.20   \n",
      "9318      2020.0  3.223764e+09  4.127357e+10                1.0     1.Apr.20   \n",
      "9319      2020.0  4.127357e+10  3.916945e+10                1.0    24.Nov.20   \n",
      "9321      2020.0  4.434324e+11  1.336098e+10                1.0    26.Jul.20   \n",
      "\n",
      "      ARREST_TYPE_ID_ MULTIPLE_INDICATOR_  OFFENSE_TYPE_ID_  AGE_ID_  \\\n",
      "0                 3.0                   N              21.0      5.0   \n",
      "1                 3.0                   N               5.0      5.0   \n",
      "2                 1.0                   N              27.0      5.0   \n",
      "3                 3.0                   N              51.0      5.0   \n",
      "4                 1.0                   N              51.0      5.0   \n",
      "...               ...                 ...               ...      ...   \n",
      "9316              3.0                   C              51.0      5.0   \n",
      "9317              1.0                   N              51.0      5.0   \n",
      "9318              2.0                   N              23.0      5.0   \n",
      "9319              3.0                   N              23.0      5.0   \n",
      "9321              3.0                   N               5.0      5.0   \n",
      "\n",
      "      AGE_NUM_  ... HC_FLAG_  HC_CODE_  \\\n",
      "0         21.0  ...        Y      7,,0   \n",
      "1         33.0  ...        Y     11,,0   \n",
      "2         53.0  ...        Y      4,,0   \n",
      "3         29.0  ...        Y      9,,0   \n",
      "4         32.0  ...        Y      9,,0   \n",
      "...        ...  ...      ...       ...   \n",
      "9316     432.0  ...        Y      9,,0   \n",
      "9317     465.0  ...        Y      9,,0   \n",
      "9318     523.0  ...        N       NaN   \n",
      "9319    2145.0  ...        N       NaN   \n",
      "9321     300.0  ...        Y     11,,0   \n",
      "\n",
      "                        OFFENSE_CATEGORY_NAME_ OFFENSE_GROUP_ RACE_CODE_  \\\n",
      "0                          Motor Vehicle Theft              A          B   \n",
      "1     Destruction/Damage/Vandalism of Property              A          W   \n",
      "2                             Assault Offenses              A          B   \n",
      "3                             Assault Offenses              A          W   \n",
      "4                             Assault Offenses              A          B   \n",
      "...                                        ...            ...        ...   \n",
      "9316                          Assault Offenses              A          B   \n",
      "9317                          Assault Offenses              A          W   \n",
      "9318                    Larceny/Theft Offenses              A          W   \n",
      "9319                    Larceny/Theft Offenses              A          B   \n",
      "9321  Destruction/Damage/Vandalism of Property              A          B   \n",
      "\n",
      "                      RACE_DESC_  SORT_ORDER_  START_YEAR_ END_YEAR_ NOTES_  \n",
      "0     Black or African  American         20.0          NaN       b''    NaN  \n",
      "1                         Wh ite         10.0          NaN       b''    NaN  \n",
      "2      Black or African American         20.0          NaN       b''    NaN  \n",
      "3                          White         10.0          NaN       b''    NaN  \n",
      "4      Black or African American         20.0          NaN       b''    NaN  \n",
      "...                          ...          ...          ...       ...    ...  \n",
      "9316   Black or African American         20.0          NaN       b''    NaN  \n",
      "9317                       White         10.0          NaN       b''    NaN  \n",
      "9318                       White         10.0          NaN       b''    NaN  \n",
      "9319   Black or African American         20.0          NaN       b''    NaN  \n",
      "9321   Black or African American         20.0          NaN       b''    NaN  \n",
      "\n",
      "[8820 rows x 47 columns]\n"
     ]
    }
   ],
   "source": [
    "filtered_offenses = data.groupby('OFFENSE_TYPE_ID_')['ARRESTEE_ID_'].count() >= 100\n",
    "data_filtered_offenses = data[data['OFFENSE_TYPE_ID_'].isin(filtered_offenses[filtered_offenses].index)]\n",
    "print(data_filtered_offenses)"
   ]
  },
  {
   "cell_type": "code",
   "execution_count": 19,
   "id": "581e1502-53bf-4ae5-8dbb-c441aedb6e5c",
   "metadata": {},
   "outputs": [
    {
     "name": "stdout",
     "output_type": "stream",
     "text": [
      "      DATA_YEAR_  ARRESTEE_ID_  INCIDENT_ID_  ARRESTEE_SEQ_NUM_ ARREST_DATE_  \\\n",
      "2         2020.0  4.126488e+07  1.336009e+08                1.0     1.Oct.20   \n",
      "3         2020.0  3.903883e+07  1.264092e+08                1.0    15.Mar.20   \n",
      "4         2020.0  3.898351e+07  1.262117e+08                2.0    10.Jan.20   \n",
      "5         2020.0  4.125931e+07  1.335798e+08                1.0    13.Jul.20   \n",
      "6         2020.0  4.126327e+07  1.336038e+08                1.0    15.Sep.20   \n",
      "...          ...           ...           ...                ...          ...   \n",
      "9317      2020.0  3.223987e+10  3.223764e+09              135.0    30.Jun.20   \n",
      "9318      2020.0  3.223764e+09  4.127357e+10                1.0     1.Apr.20   \n",
      "9319      2020.0  4.127357e+10  3.916945e+10                1.0    24.Nov.20   \n",
      "9320      2020.0  3.916945e+10  4.434324e+11                1.0     1.May.20   \n",
      "9321      2020.0  4.434324e+11  1.336098e+10                1.0    26.Jul.20   \n",
      "\n",
      "      ARREST_TYPE_ID_ MULTIPLE_INDICATOR_  OFFENSE_TYPE_ID_  AGE_ID_  \\\n",
      "2                 1.0                   N              27.0      5.0   \n",
      "3                 3.0                   N              51.0      5.0   \n",
      "4                 1.0                   N              51.0      5.0   \n",
      "5                 1.0                   N              23.0      5.0   \n",
      "6                 1.0                   C              51.0      5.0   \n",
      "...               ...                 ...               ...      ...   \n",
      "9317              1.0                   N              51.0      5.0   \n",
      "9318              2.0                   N              23.0      5.0   \n",
      "9319              3.0                   N              23.0      5.0   \n",
      "9320              3.0                   N              43.0      5.0   \n",
      "9321              3.0                   N               5.0      5.0   \n",
      "\n",
      "      AGE_NUM_  ... HC_FLAG_  HC_CODE_  \\\n",
      "2         53.0  ...        Y      4,,0   \n",
      "3         29.0  ...        Y      9,,0   \n",
      "4         32.0  ...        Y      9,,0   \n",
      "5         27.0  ...        N       NaN   \n",
      "6         31.0  ...        Y      9,,0   \n",
      "...        ...  ...      ...       ...   \n",
      "9317     465.0  ...        Y      9,,0   \n",
      "9318     523.0  ...        N       NaN   \n",
      "9319    2145.0  ...        N       NaN   \n",
      "9320    3411.0  ...        Y      2,,0   \n",
      "9321     300.0  ...        Y     11,,0   \n",
      "\n",
      "                        OFFENSE_CATEGORY_NAME_ OFFENSE_GROUP_ RACE_CODE_  \\\n",
      "2                             Assault Offenses              A          B   \n",
      "3                             Assault Offenses              A          W   \n",
      "4                             Assault Offenses              A          B   \n",
      "5                       Larceny/Theft Offenses              A          W   \n",
      "6                             Assault Offenses              A          B   \n",
      "...                                        ...            ...        ...   \n",
      "9317                          Assault Offenses              A          W   \n",
      "9318                    Larceny/Theft Offenses              A          W   \n",
      "9319                    Larceny/Theft Offenses              A          B   \n",
      "9320                              Sex Offenses              A          W   \n",
      "9321  Destruction/Damage/Vandalism of Property              A          B   \n",
      "\n",
      "                     RACE_DESC_  SORT_ORDER_  START_YEAR_ END_YEAR_ NOTES_  \n",
      "2     Black or African American         20.0          NaN       b''    NaN  \n",
      "3                         White         10.0          NaN       b''    NaN  \n",
      "4     Black or African American         20.0          NaN       b''    NaN  \n",
      "5                         White         10.0          NaN       b''    NaN  \n",
      "6     Black or African American         20.0          NaN       b''    NaN  \n",
      "...                         ...          ...          ...       ...    ...  \n",
      "9317                      White         10.0          NaN       b''    NaN  \n",
      "9318                      White         10.0          NaN       b''    NaN  \n",
      "9319  Black or African American         20.0          NaN       b''    NaN  \n",
      "9320                      White         10.0          NaN       b''    NaN  \n",
      "9321  Black or African American         20.0          NaN       b''    NaN  \n",
      "\n",
      "[9263 rows x 47 columns]\n"
     ]
    }
   ],
   "source": [
    "filtered_races_by_year = data.groupby(['DATA_YEAR_', 'RACE_DESC_'])['ARRESTEE_ID_'].count() >= 50\n",
    "data_filtered_races = data[data.set_index(['DATA_YEAR_', 'RACE_DESC_']).index.isin(filtered_races_by_year[filtered_races_by_year].index)]\n",
    "print(data_filtered_races)"
   ]
  },
  {
   "cell_type": "code",
   "execution_count": 20,
   "id": "6bd2ed66-65d5-4f4d-83fd-e870940ad493",
   "metadata": {},
   "outputs": [
    {
     "name": "stdout",
     "output_type": "stream",
     "text": [
      "DATA_YEAR_\n",
      "2020.0    23.0\n",
      "2021.0    16.0\n",
      "Name: OFFENSE_TYPE_ID_, dtype: float64\n"
     ]
    }
   ],
   "source": [
    "most_common_offense_by_year = data.groupby('DATA_YEAR_')['OFFENSE_TYPE_ID_'].apply(lambda x: x.value_counts().idxmax())\n",
    "print(most_common_offense_by_year)"
   ]
  },
  {
   "cell_type": "code",
   "execution_count": 21,
   "id": "2c7bf4c0-0a3e-4b42-9523-6eaec8fe4e2a",
   "metadata": {},
   "outputs": [
    {
     "name": "stdout",
     "output_type": "stream",
     "text": [
      "Black or African American\n"
     ]
    }
   ],
   "source": [
    "race_highest_variance = data.groupby('RACE_DESC_')['AGE_NUM_'].var().idxmax()\n",
    "print(race_highest_variance)"
   ]
  },
  {
   "cell_type": "code",
   "execution_count": 22,
   "id": "5fc0987b-7b5a-45be-b4a2-1ead5992783e",
   "metadata": {},
   "outputs": [
    {
     "name": "stdout",
     "output_type": "stream",
     "text": [
      "OFFENSE_TYPE_ID_\n",
      "2.0     -0.596325\n",
      "3.0      1.887105\n",
      "5.0      6.907980\n",
      "7.0      0.367409\n",
      "8.0      0.079863\n",
      "11.0     0.908804\n",
      "12.0          NaN\n",
      "13.0          NaN\n",
      "14.0     0.663253\n",
      "15.0          NaN\n",
      "16.0     0.800548\n",
      "18.0     0.538162\n",
      "20.0     0.245977\n",
      "21.0     1.105832\n",
      "23.0    36.885797\n",
      "26.0          NaN\n",
      "27.0     0.645517\n",
      "28.0     1.016058\n",
      "29.0     0.768724\n",
      "30.0     0.419345\n",
      "32.0     0.777434\n",
      "35.0     1.012762\n",
      "36.0     0.659892\n",
      "37.0     1.732051\n",
      "39.0     0.703458\n",
      "40.0     1.068489\n",
      "43.0     3.462903\n",
      "44.0     0.994399\n",
      "45.0     0.544545\n",
      "46.0     0.881975\n",
      "47.0     0.941822\n",
      "49.0     0.515464\n",
      "50.0          NaN\n",
      "51.0    37.550886\n",
      "56.0     0.614410\n",
      "63.0     0.360711\n",
      "Name: AGE_NUM_, dtype: float64\n"
     ]
    }
   ],
   "source": [
    "skewness_by_offense = data.groupby('OFFENSE_TYPE_ID_')['AGE_NUM_'].skew()\n",
    "print(skewness_by_offense)"
   ]
  },
  {
   "cell_type": "code",
   "execution_count": 23,
   "id": "22468dee-8b00-4dcb-9aea-9e6874ecefcb",
   "metadata": {},
   "outputs": [
    {
     "name": "stdout",
     "output_type": "stream",
     "text": [
      "DATA_YEAR_  RACE_DESC_                               \n",
      "2020.0      American Indian or Alaska Native             51.0\n",
      "            Asian                                        23.0\n",
      "            Bla ck or African American                   44.0\n",
      "            Black or African  American                   21.0\n",
      "            Black or African Amer ican                   49.0\n",
      "            Black or African Americ an                   23.0\n",
      "            Black or African American                    23.0\n",
      "            Native Hawaiian or Other Pacific Islander    45.0\n",
      "            Unknown                                      16.0\n",
      "            Wh ite                                        5.0\n",
      "            Whi te                                       16.0\n",
      "            White                                        23.0\n",
      "2021.0      Black or African American                    16.0\n",
      "Name: OFFENSE_TYPE_ID_, dtype: float64\n"
     ]
    }
   ],
   "source": [
    "highest_arrests_offense_by_year_race = data.groupby(['DATA_YEAR_', 'RACE_DESC_'])['OFFENSE_TYPE_ID_'].apply(lambda x: x.value_counts().idxmax())\n",
    "print(highest_arrests_offense_by_year_race)"
   ]
  },
  {
   "cell_type": "code",
   "execution_count": 24,
   "id": "4397aa18-55e3-41ae-9d17-fe5e4c101c15",
   "metadata": {},
   "outputs": [
    {
     "ename": "KeyError",
     "evalue": "'GENDER_'",
     "output_type": "error",
     "traceback": [
      "\u001b[0;31m---------------------------------------------------------------------------\u001b[0m",
      "\u001b[0;31mKeyError\u001b[0m                                  Traceback (most recent call last)",
      "Cell \u001b[0;32mIn [24], line 1\u001b[0m\n\u001b[0;32m----> 1\u001b[0m gender_distribution_by_offense \u001b[38;5;241m=\u001b[39m \u001b[43mdata\u001b[49m\u001b[38;5;241;43m.\u001b[39;49m\u001b[43mgroupby\u001b[49m\u001b[43m(\u001b[49m\u001b[43m[\u001b[49m\u001b[38;5;124;43m'\u001b[39;49m\u001b[38;5;124;43mOFFENSE_TYPE_ID_\u001b[39;49m\u001b[38;5;124;43m'\u001b[39;49m\u001b[43m,\u001b[49m\u001b[43m \u001b[49m\u001b[38;5;124;43m'\u001b[39;49m\u001b[38;5;124;43mGENDER_\u001b[39;49m\u001b[38;5;124;43m'\u001b[39;49m\u001b[43m]\u001b[49m\u001b[43m)\u001b[49m[\u001b[38;5;124m'\u001b[39m\u001b[38;5;124mARRESTEE_ID_\u001b[39m\u001b[38;5;124m'\u001b[39m]\u001b[38;5;241m.\u001b[39mcount()\n\u001b[1;32m      2\u001b[0m \u001b[38;5;28mprint\u001b[39m(gender_distribution_by_offense)\n",
      "File \u001b[0;32m~/.local/lib/python3.10/site-packages/pandas/core/frame.py:8399\u001b[0m, in \u001b[0;36mDataFrame.groupby\u001b[0;34m(self, by, axis, level, as_index, sort, group_keys, squeeze, observed, dropna)\u001b[0m\n\u001b[1;32m   8396\u001b[0m     \u001b[38;5;28;01mraise\u001b[39;00m \u001b[38;5;167;01mTypeError\u001b[39;00m(\u001b[38;5;124m\"\u001b[39m\u001b[38;5;124mYou have to supply one of \u001b[39m\u001b[38;5;124m'\u001b[39m\u001b[38;5;124mby\u001b[39m\u001b[38;5;124m'\u001b[39m\u001b[38;5;124m and \u001b[39m\u001b[38;5;124m'\u001b[39m\u001b[38;5;124mlevel\u001b[39m\u001b[38;5;124m'\u001b[39m\u001b[38;5;124m\"\u001b[39m)\n\u001b[1;32m   8397\u001b[0m axis \u001b[38;5;241m=\u001b[39m \u001b[38;5;28mself\u001b[39m\u001b[38;5;241m.\u001b[39m_get_axis_number(axis)\n\u001b[0;32m-> 8399\u001b[0m \u001b[38;5;28;01mreturn\u001b[39;00m \u001b[43mDataFrameGroupBy\u001b[49m\u001b[43m(\u001b[49m\n\u001b[1;32m   8400\u001b[0m \u001b[43m    \u001b[49m\u001b[43mobj\u001b[49m\u001b[38;5;241;43m=\u001b[39;49m\u001b[38;5;28;43mself\u001b[39;49m\u001b[43m,\u001b[49m\n\u001b[1;32m   8401\u001b[0m \u001b[43m    \u001b[49m\u001b[43mkeys\u001b[49m\u001b[38;5;241;43m=\u001b[39;49m\u001b[43mby\u001b[49m\u001b[43m,\u001b[49m\n\u001b[1;32m   8402\u001b[0m \u001b[43m    \u001b[49m\u001b[43maxis\u001b[49m\u001b[38;5;241;43m=\u001b[39;49m\u001b[43maxis\u001b[49m\u001b[43m,\u001b[49m\n\u001b[1;32m   8403\u001b[0m \u001b[43m    \u001b[49m\u001b[43mlevel\u001b[49m\u001b[38;5;241;43m=\u001b[39;49m\u001b[43mlevel\u001b[49m\u001b[43m,\u001b[49m\n\u001b[1;32m   8404\u001b[0m \u001b[43m    \u001b[49m\u001b[43mas_index\u001b[49m\u001b[38;5;241;43m=\u001b[39;49m\u001b[43mas_index\u001b[49m\u001b[43m,\u001b[49m\n\u001b[1;32m   8405\u001b[0m \u001b[43m    \u001b[49m\u001b[43msort\u001b[49m\u001b[38;5;241;43m=\u001b[39;49m\u001b[43msort\u001b[49m\u001b[43m,\u001b[49m\n\u001b[1;32m   8406\u001b[0m \u001b[43m    \u001b[49m\u001b[43mgroup_keys\u001b[49m\u001b[38;5;241;43m=\u001b[39;49m\u001b[43mgroup_keys\u001b[49m\u001b[43m,\u001b[49m\n\u001b[1;32m   8407\u001b[0m \u001b[43m    \u001b[49m\u001b[43msqueeze\u001b[49m\u001b[38;5;241;43m=\u001b[39;49m\u001b[43msqueeze\u001b[49m\u001b[43m,\u001b[49m\n\u001b[1;32m   8408\u001b[0m \u001b[43m    \u001b[49m\u001b[43mobserved\u001b[49m\u001b[38;5;241;43m=\u001b[39;49m\u001b[43mobserved\u001b[49m\u001b[43m,\u001b[49m\n\u001b[1;32m   8409\u001b[0m \u001b[43m    \u001b[49m\u001b[43mdropna\u001b[49m\u001b[38;5;241;43m=\u001b[39;49m\u001b[43mdropna\u001b[49m\u001b[43m,\u001b[49m\n\u001b[1;32m   8410\u001b[0m \u001b[43m\u001b[49m\u001b[43m)\u001b[49m\n",
      "File \u001b[0;32m~/.local/lib/python3.10/site-packages/pandas/core/groupby/groupby.py:959\u001b[0m, in \u001b[0;36mGroupBy.__init__\u001b[0;34m(self, obj, keys, axis, level, grouper, exclusions, selection, as_index, sort, group_keys, squeeze, observed, mutated, dropna)\u001b[0m\n\u001b[1;32m    956\u001b[0m \u001b[38;5;28;01mif\u001b[39;00m grouper \u001b[38;5;129;01mis\u001b[39;00m \u001b[38;5;28;01mNone\u001b[39;00m:\n\u001b[1;32m    957\u001b[0m     \u001b[38;5;28;01mfrom\u001b[39;00m \u001b[38;5;21;01mpandas\u001b[39;00m\u001b[38;5;21;01m.\u001b[39;00m\u001b[38;5;21;01mcore\u001b[39;00m\u001b[38;5;21;01m.\u001b[39;00m\u001b[38;5;21;01mgroupby\u001b[39;00m\u001b[38;5;21;01m.\u001b[39;00m\u001b[38;5;21;01mgrouper\u001b[39;00m \u001b[38;5;28;01mimport\u001b[39;00m get_grouper\n\u001b[0;32m--> 959\u001b[0m     grouper, exclusions, obj \u001b[38;5;241m=\u001b[39m \u001b[43mget_grouper\u001b[49m\u001b[43m(\u001b[49m\n\u001b[1;32m    960\u001b[0m \u001b[43m        \u001b[49m\u001b[43mobj\u001b[49m\u001b[43m,\u001b[49m\n\u001b[1;32m    961\u001b[0m \u001b[43m        \u001b[49m\u001b[43mkeys\u001b[49m\u001b[43m,\u001b[49m\n\u001b[1;32m    962\u001b[0m \u001b[43m        \u001b[49m\u001b[43maxis\u001b[49m\u001b[38;5;241;43m=\u001b[39;49m\u001b[43maxis\u001b[49m\u001b[43m,\u001b[49m\n\u001b[1;32m    963\u001b[0m \u001b[43m        \u001b[49m\u001b[43mlevel\u001b[49m\u001b[38;5;241;43m=\u001b[39;49m\u001b[43mlevel\u001b[49m\u001b[43m,\u001b[49m\n\u001b[1;32m    964\u001b[0m \u001b[43m        \u001b[49m\u001b[43msort\u001b[49m\u001b[38;5;241;43m=\u001b[39;49m\u001b[43msort\u001b[49m\u001b[43m,\u001b[49m\n\u001b[1;32m    965\u001b[0m \u001b[43m        \u001b[49m\u001b[43mobserved\u001b[49m\u001b[38;5;241;43m=\u001b[39;49m\u001b[43mobserved\u001b[49m\u001b[43m,\u001b[49m\n\u001b[1;32m    966\u001b[0m \u001b[43m        \u001b[49m\u001b[43mmutated\u001b[49m\u001b[38;5;241;43m=\u001b[39;49m\u001b[38;5;28;43mself\u001b[39;49m\u001b[38;5;241;43m.\u001b[39;49m\u001b[43mmutated\u001b[49m\u001b[43m,\u001b[49m\n\u001b[1;32m    967\u001b[0m \u001b[43m        \u001b[49m\u001b[43mdropna\u001b[49m\u001b[38;5;241;43m=\u001b[39;49m\u001b[38;5;28;43mself\u001b[39;49m\u001b[38;5;241;43m.\u001b[39;49m\u001b[43mdropna\u001b[49m\u001b[43m,\u001b[49m\n\u001b[1;32m    968\u001b[0m \u001b[43m    \u001b[49m\u001b[43m)\u001b[49m\n\u001b[1;32m    970\u001b[0m \u001b[38;5;28mself\u001b[39m\u001b[38;5;241m.\u001b[39mobj \u001b[38;5;241m=\u001b[39m obj\n\u001b[1;32m    971\u001b[0m \u001b[38;5;28mself\u001b[39m\u001b[38;5;241m.\u001b[39maxis \u001b[38;5;241m=\u001b[39m obj\u001b[38;5;241m.\u001b[39m_get_axis_number(axis)\n",
      "File \u001b[0;32m~/.local/lib/python3.10/site-packages/pandas/core/groupby/grouper.py:888\u001b[0m, in \u001b[0;36mget_grouper\u001b[0;34m(obj, key, axis, level, sort, observed, mutated, validate, dropna)\u001b[0m\n\u001b[1;32m    886\u001b[0m         in_axis, level, gpr \u001b[38;5;241m=\u001b[39m \u001b[38;5;28;01mFalse\u001b[39;00m, gpr, \u001b[38;5;28;01mNone\u001b[39;00m\n\u001b[1;32m    887\u001b[0m     \u001b[38;5;28;01melse\u001b[39;00m:\n\u001b[0;32m--> 888\u001b[0m         \u001b[38;5;28;01mraise\u001b[39;00m \u001b[38;5;167;01mKeyError\u001b[39;00m(gpr)\n\u001b[1;32m    889\u001b[0m \u001b[38;5;28;01melif\u001b[39;00m \u001b[38;5;28misinstance\u001b[39m(gpr, Grouper) \u001b[38;5;129;01mand\u001b[39;00m gpr\u001b[38;5;241m.\u001b[39mkey \u001b[38;5;129;01mis\u001b[39;00m \u001b[38;5;129;01mnot\u001b[39;00m \u001b[38;5;28;01mNone\u001b[39;00m:\n\u001b[1;32m    890\u001b[0m     \u001b[38;5;66;03m# Add key to exclusions\u001b[39;00m\n\u001b[1;32m    891\u001b[0m     exclusions\u001b[38;5;241m.\u001b[39madd(gpr\u001b[38;5;241m.\u001b[39mkey)\n",
      "\u001b[0;31mKeyError\u001b[0m: 'GENDER_'"
     ]
    }
   ],
   "source": [
    "gender_distribution_by_offense = data.groupby(['OFFENSE_TYPE_ID_', 'GENDER_'])['ARRESTEE_ID_'].count()\n",
    "print(gender_distribution_by_offense)"
   ]
  },
  {
   "cell_type": "code",
   "execution_count": null,
   "id": "36aa9adc-bd31-4914-aa46-cfab6866a187",
   "metadata": {},
   "outputs": [],
   "source": []
  }
 ],
 "metadata": {
  "kernelspec": {
   "display_name": "Python 3 (ipykernel)",
   "language": "python",
   "name": "python3"
  },
  "language_info": {
   "codemirror_mode": {
    "name": "ipython",
    "version": 3
   },
   "file_extension": ".py",
   "mimetype": "text/x-python",
   "name": "python",
   "nbconvert_exporter": "python",
   "pygments_lexer": "ipython3",
   "version": "3.10.6"
  }
 },
 "nbformat": 4,
 "nbformat_minor": 5
}
